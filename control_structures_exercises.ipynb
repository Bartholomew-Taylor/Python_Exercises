{
 "cells": [
  {
   "cell_type": "markdown",
   "id": "00cd2427",
   "metadata": {},
   "source": [
    "prompt the user for a day of the week, print out whether the day is Monday or not"
   ]
  },
  {
   "cell_type": "code",
   "execution_count": 137,
   "id": "c4198875",
   "metadata": {},
   "outputs": [
    {
     "name": "stdout",
     "output_type": "stream",
     "text": [
      "Please provide a day of the week. Tuesday\n",
      "the day you entered is not monday.\n"
     ]
    }
   ],
   "source": [
    "\n",
    "user_day = input('Please provide a day of the week. ')\n",
    "\n",
    "if user_day.strip().lower() == 'monday':\n",
    "    print('the day you entered is monday')\n",
    "else:\n",
    "    print('the day you entered is not monday.')"
   ]
  },
  {
   "cell_type": "markdown",
   "id": "89ba4fb8",
   "metadata": {},
   "source": [
    "prompt the user for a day of the week, print out whether the day is a weekday or a weekend"
   ]
  },
  {
   "cell_type": "code",
   "execution_count": 140,
   "id": "bb815151",
   "metadata": {},
   "outputs": [
    {
     "name": "stdout",
     "output_type": "stream",
     "text": [
      "Please provide a day of the week. poo\n",
      "What you entered is not a day.\n"
     ]
    }
   ],
   "source": [
    "\n",
    "user_day = input('Please provide a day of the week. ')\n",
    "\n",
    "\n",
    "if user_day.strip().lower() in ['saturday','sunday']:\n",
    "    print('You have entered a day in the weekend')\n",
    "    \n",
    "elif user_day.strip().lower() in ['monday', 'tuesday', 'wedsnesday', 'thursday', 'friday']:\n",
    "    print('The day you entered is a weekday')\n",
    "else:\n",
    "    print('What you entered is not a day of the week.')"
   ]
  },
  {
   "cell_type": "markdown",
   "id": "63e61dcf",
   "metadata": {},
   "source": [
    "create variables and make up values for\n",
    "\n",
    "the number of hours worked in one week\n",
    "the hourly rate\n",
    "how much the week's paycheck will be\n",
    "write the python code that calculates the weekly paycheck. You get paid time and a half if you work more than 40 hours"
   ]
  },
  {
   "cell_type": "code",
   "execution_count": 146,
   "id": "4724c46c",
   "metadata": {},
   "outputs": [
    {
     "name": "stdout",
     "output_type": "stream",
     "text": [
      "Your weekly pay is:1271.0\n"
     ]
    }
   ],
   "source": [
    "hr_rate = 15.50\n",
    "wk_hrs = 68\n",
    "pay = 0\n",
    "\n",
    "if wk_hrs > 40:\n",
    "    pay += (hr_rate * 40) + ((hr_rate * 1.5)*(wk_hrs - 40))\n",
    "    print('Your weekly pay is:{}'.format(pay))\n",
    "else:\n",
    "    pay += (hr_rate * wk_hrs)\n",
    "    print('Your weekly pay is:{}'.format(pay))"
   ]
  },
  {
   "cell_type": "markdown",
   "id": "798b5ae2",
   "metadata": {},
   "source": [
    "While\n",
    "\n",
    "Create an integer variable i with a value of 5.\n",
    "Create a while loop that runs so long as i is less than or equal to 15\n",
    "Each loop iteration, output the current value of i, then increment i by one.\n"
   ]
  },
  {
   "cell_type": "code",
   "execution_count": 37,
   "id": "0a6e5c8b",
   "metadata": {},
   "outputs": [
    {
     "name": "stdout",
     "output_type": "stream",
     "text": [
      "6\n",
      "7\n",
      "8\n",
      "9\n",
      "10\n",
      "11\n",
      "12\n",
      "13\n",
      "14\n",
      "15\n"
     ]
    }
   ],
   "source": [
    "int_var = 5\n",
    "\n",
    "while int_var <= 14:\n",
    "    int_var += 1\n",
    "    print(int_var)"
   ]
  },
  {
   "cell_type": "markdown",
   "id": "7bf827d7",
   "metadata": {},
   "source": [
    "Create a while loop that will count by 2's starting with 0 and ending at 100. Follow each number with a new line.\n"
   ]
  },
  {
   "cell_type": "code",
   "execution_count": 147,
   "id": "0bb2c084",
   "metadata": {},
   "outputs": [
    {
     "name": "stdout",
     "output_type": "stream",
     "text": [
      "0\n",
      "2\n",
      "4\n",
      "6\n",
      "8\n",
      "10\n",
      "12\n",
      "14\n",
      "16\n",
      "18\n",
      "20\n",
      "22\n",
      "24\n",
      "26\n",
      "28\n",
      "30\n",
      "32\n",
      "34\n",
      "36\n",
      "38\n",
      "40\n",
      "42\n",
      "44\n",
      "46\n",
      "48\n",
      "50\n",
      "52\n",
      "54\n",
      "56\n",
      "58\n",
      "60\n",
      "62\n",
      "64\n",
      "66\n",
      "68\n",
      "70\n",
      "72\n",
      "74\n",
      "76\n",
      "78\n",
      "80\n",
      "82\n",
      "84\n",
      "86\n",
      "88\n",
      "90\n",
      "92\n",
      "94\n",
      "96\n",
      "98\n",
      "100\n"
     ]
    }
   ],
   "source": [
    "twos = 0\n",
    "\n",
    "while twos <= 100:\n",
    "    print(twos)\n",
    "    twos += 2\n",
    "    "
   ]
  },
  {
   "cell_type": "markdown",
   "id": "22beb91c",
   "metadata": {},
   "source": [
    "Alter your loop to count backwards by 5's from 100 to -10.\n"
   ]
  },
  {
   "cell_type": "code",
   "execution_count": 148,
   "id": "a9edf78e",
   "metadata": {},
   "outputs": [
    {
     "name": "stdout",
     "output_type": "stream",
     "text": [
      "100\n",
      "95\n",
      "90\n",
      "85\n",
      "80\n",
      "75\n",
      "70\n",
      "65\n",
      "60\n",
      "55\n",
      "50\n",
      "45\n",
      "40\n",
      "35\n",
      "30\n",
      "25\n",
      "20\n",
      "15\n",
      "10\n",
      "5\n",
      "0\n",
      "-5\n",
      "-10\n"
     ]
    }
   ],
   "source": [
    "twos = 100\n",
    "\n",
    "while twos >= -10:\n",
    "    print(twos)\n",
    "    twos += -5\n",
    "    "
   ]
  },
  {
   "cell_type": "markdown",
   "id": "e92a23c1",
   "metadata": {},
   "source": [
    "Create a while loop that starts at 2, and displays the number squared on each line while the number is less than 1,000,000."
   ]
  },
  {
   "cell_type": "code",
   "execution_count": 149,
   "id": "8699fc76",
   "metadata": {},
   "outputs": [
    {
     "name": "stdout",
     "output_type": "stream",
     "text": [
      "2\n",
      "4\n",
      "16\n",
      "256\n",
      "65536\n"
     ]
    }
   ],
   "source": [
    "sqrs = 2\n",
    "\n",
    "\n",
    "while sqrs < 1_000_000:\n",
    "    print(sqrs)\n",
    "    sqrs = pow(sqrs, 2)\n",
    "    \n",
    "    \n",
    "    "
   ]
  },
  {
   "cell_type": "markdown",
   "id": "76889cdb",
   "metadata": {},
   "source": [
    "Write a loop that uses print to create the output shown below.\n",
    "\n",
    "100\n",
    "95\n",
    "90\n",
    "85\n",
    "80\n",
    "75\n",
    "70\n",
    "65\n",
    "60\n",
    "55\n",
    "50\n",
    "45\n",
    "40\n",
    "35\n",
    "30\n",
    "25\n",
    "20\n",
    "15\n",
    "10\n",
    "5\n"
   ]
  },
  {
   "cell_type": "code",
   "execution_count": 55,
   "id": "5f69eed8",
   "metadata": {},
   "outputs": [
    {
     "name": "stdout",
     "output_type": "stream",
     "text": [
      "100\n",
      "95\n",
      "90\n",
      "85\n",
      "80\n",
      "75\n",
      "70\n",
      "65\n",
      "60\n",
      "55\n",
      "50\n",
      "45\n",
      "40\n",
      "35\n",
      "30\n",
      "25\n",
      "20\n",
      "15\n",
      "10\n",
      "5\n"
     ]
    }
   ],
   "source": [
    "twos = 105\n",
    "\n",
    "while twos >= 10:\n",
    "    twos += -5\n",
    "    print(twos)"
   ]
  },
  {
   "cell_type": "markdown",
   "id": "fe714455",
   "metadata": {},
   "source": [
    "Write some code that prompts the user for a number, then shows a multiplication table up through 10 for that number."
   ]
  },
  {
   "cell_type": "code",
   "execution_count": 151,
   "id": "8682e15d",
   "metadata": {},
   "outputs": [
    {
     "name": "stdout",
     "output_type": "stream",
     "text": [
      "please provide a number. 6\n",
      "6 x 1 = 6\n",
      "6 x 2 = 12\n",
      "6 x 3 = 18\n",
      "6 x 4 = 24\n",
      "6 x 5 = 30\n",
      "6 x 6 = 36\n",
      "6 x 7 = 42\n",
      "6 x 8 = 48\n",
      "6 x 9 = 54\n",
      "6 x 10 = 60\n"
     ]
    }
   ],
   "source": [
    "user_no = input('please provide a number. ')\n",
    "counter = 0\n",
    "product = 0\n",
    "\n",
    "while counter < 10:\n",
    "    counter += 1\n",
    "    product = int(user_no) * counter\n",
    "    print(user_no,'x',counter,'=',product)"
   ]
  },
  {
   "cell_type": "markdown",
   "id": "794c7ea4",
   "metadata": {},
   "source": [
    "Create a for loop that uses print to create the output shown below.\n",
    "\n",
    "1\n",
    "22\n",
    "333\n",
    "4444\n",
    "55555\n",
    "666666\n",
    "7777777\n",
    "88888888\n",
    "999999999\n"
   ]
  },
  {
   "cell_type": "code",
   "execution_count": 152,
   "id": "b6c8581d",
   "metadata": {},
   "outputs": [
    {
     "name": "stdout",
     "output_type": "stream",
     "text": [
      "1\n",
      "22\n",
      "333\n",
      "4444\n",
      "55555\n",
      "666666\n",
      "7777777\n",
      "88888888\n",
      "999999999\n",
      "1\n",
      "22\n",
      "333\n",
      "4444\n",
      "55555\n",
      "666666\n",
      "7777777\n",
      "88888888\n",
      "999999999\n"
     ]
    }
   ],
   "source": [
    "counter = 1\n",
    "cntr_list = []\n",
    "\n",
    "while counter < 10:\n",
    "    cntr_list.append(str(counter) * counter)\n",
    "    counter += 1\n",
    "print('\\n'.join(map(str, cntr_list)))\n",
    "\n",
    "#review answer below\n",
    "for i in range(1,10):\n",
    "    print(i * str(i))\n",
    "    "
   ]
  },
  {
   "cell_type": "markdown",
   "id": "50bc29a9",
   "metadata": {},
   "source": [
    "Write a program that prompts the user for a positive integer. Next write a loop that prints out the numbers from the number the user entered down to 1."
   ]
  },
  {
   "cell_type": "code",
   "execution_count": 108,
   "id": "57f544ee",
   "metadata": {},
   "outputs": [
    {
     "name": "stdout",
     "output_type": "stream",
     "text": [
      "Please enter a positive integer. 100\n",
      "100\n",
      "99\n",
      "98\n",
      "97\n",
      "96\n",
      "95\n",
      "94\n",
      "93\n",
      "92\n",
      "91\n",
      "90\n",
      "89\n",
      "88\n",
      "87\n",
      "86\n",
      "85\n",
      "84\n",
      "83\n",
      "82\n",
      "81\n",
      "80\n",
      "79\n",
      "78\n",
      "77\n",
      "76\n",
      "75\n",
      "74\n",
      "73\n",
      "72\n",
      "71\n",
      "70\n",
      "69\n",
      "68\n",
      "67\n",
      "66\n",
      "65\n",
      "64\n",
      "63\n",
      "62\n",
      "61\n",
      "60\n",
      "59\n",
      "58\n",
      "57\n",
      "56\n",
      "55\n",
      "54\n",
      "53\n",
      "52\n",
      "51\n",
      "50\n",
      "49\n",
      "48\n",
      "47\n",
      "46\n",
      "45\n",
      "44\n",
      "43\n",
      "42\n",
      "41\n",
      "40\n",
      "39\n",
      "38\n",
      "37\n",
      "36\n",
      "35\n",
      "34\n",
      "33\n",
      "32\n",
      "31\n",
      "30\n",
      "29\n",
      "28\n",
      "27\n",
      "26\n",
      "25\n",
      "24\n",
      "23\n",
      "22\n",
      "21\n",
      "20\n",
      "19\n",
      "18\n",
      "17\n",
      "16\n",
      "15\n",
      "14\n",
      "13\n",
      "12\n",
      "11\n",
      "10\n",
      "9\n",
      "8\n",
      "7\n",
      "6\n",
      "5\n",
      "4\n",
      "3\n",
      "2\n",
      "1\n"
     ]
    }
   ],
   "source": [
    "user_no = int(input('Please enter a positive integer. '))\n",
    "\n",
    "\n",
    "while user_no > 0:\n",
    "    print(user_no)\n",
    "    user_no += -1\n",
    "    "
   ]
  },
  {
   "cell_type": "markdown",
   "id": "20f1a36e",
   "metadata": {},
   "source": [
    "The input function can be used to prompt for input and use that input in your python code. Prompt the user to enter a positive number and write a loop that counts from 0 to that number. (Hints: first make sure that the value the user entered is a valid number, also note that the input function returns a string, so you'll need to convert this to a numeric type.)"
   ]
  },
  {
   "cell_type": "code",
   "execution_count": 153,
   "id": "3725a9e5",
   "metadata": {},
   "outputs": [
    {
     "name": "stdout",
     "output_type": "stream",
     "text": [
      "Please enter a positive integer. 7\n",
      "0\n",
      "1\n",
      "2\n",
      "3\n",
      "4\n",
      "5\n",
      "6\n",
      "7\n"
     ]
    }
   ],
   "source": [
    "user_no = int(input('Please enter a positive integer. '))\n",
    "counter = 0\n",
    "\n",
    "while counter != (user_no + 1):\n",
    "    print(counter)\n",
    "    counter += 1"
   ]
  },
  {
   "cell_type": "markdown",
   "id": "15881515",
   "metadata": {},
   "source": [
    "Prompt the user for an odd number between 1 and 50. Use a loop and a break statement to continue prompting the user if they enter invalid input. (Hint: use the isdigit method on strings to determine this). Use a loop and the continue statement to output all the odd numbers between 1 and 50, except for the number the user entered."
   ]
  },
  {
   "cell_type": "code",
   "execution_count": 160,
   "id": "61c30ad4",
   "metadata": {},
   "outputs": [
    {
     "name": "stdout",
     "output_type": "stream",
     "text": [
      "Please provide an odd number between 1 and 50. 5\n",
      "Here is an odd number: 1\n",
      "Here is an odd number: 3\n",
      "Here is an odd number: 7\n",
      "Here is an odd number: 9\n",
      "Here is an odd number: 11\n",
      "Here is an odd number: 13\n",
      "Here is an odd number: 15\n",
      "Here is an odd number: 17\n",
      "Here is an odd number: 19\n",
      "Here is an odd number: 21\n",
      "Here is an odd number: 23\n",
      "Here is an odd number: 25\n",
      "Here is an odd number: 27\n",
      "Here is an odd number: 29\n",
      "Here is an odd number: 31\n",
      "Here is an odd number: 33\n",
      "Here is an odd number: 35\n",
      "Here is an odd number: 37\n",
      "Here is an odd number: 39\n",
      "Here is an odd number: 41\n",
      "Here is an odd number: 43\n",
      "Here is an odd number: 45\n",
      "Here is an odd number: 47\n",
      "Here is an odd number: 49\n"
     ]
    }
   ],
   "source": [
    "user_no = int(input('Please provide an odd number between 1 and 50. '))\n",
    "\n",
    "\n",
    "\n",
    "while user_no % 2 == 0 or user_no < 1 or user_no > 50:\n",
    "    user_no = input('You have failed to follow instructions. Please provide an ODD number BETWEEN 1 AND 50. ')\n",
    "    continue\n",
    "    \n",
    "for x in range (50):\n",
    "    if x == user_no:\n",
    "        continue\n",
    "    elif x % 2 == 0:\n",
    "        continue\n",
    "    else:\n",
    "        print('Here is an odd number:', x)\n",
    "  \n",
    "      \n",
    "#review answer below\n",
    "while True:\n",
    "        your_num = input('Input your number here: ')\n",
    "        if your_num.isdigit and int(your_num) % 2 == 1:\n",
    "            break\n",
    "        else:\n",
    "            print('invalid input. Try again.')\n",
    "counter = 1\n",
    "while counter < 50:\n",
    "    if counter == int(your_num):\n",
    "        counter += 2\n",
    "        continue\n",
    "    else:\n",
    "        print(counter)\n",
    "        counter += 2      "
   ]
  },
  {
   "cell_type": "markdown",
   "id": "18a99fc1",
   "metadata": {},
   "source": [
    "One of the most common interview questions for entry-level programmers is the FizzBuzz test. Developed by Imran Ghory, the test is designed to test basic looping and conditional logic skills.\n",
    "\n",
    "Write a program that prints the numbers from 1 to 100.\n",
    "For multiples of three print \"Fizz\" instead of the number\n",
    "For the multiples of five print \"Buzz\".\n",
    "For numbers which are multiples of both three and five print \"FizzBuzz\"."
   ]
  },
  {
   "cell_type": "code",
   "execution_count": 162,
   "id": "211f1c4d",
   "metadata": {},
   "outputs": [
    {
     "name": "stdout",
     "output_type": "stream",
     "text": [
      "1\n",
      "2\n",
      "Fizz\n",
      "4\n",
      "Buzz\n",
      "Fizz\n",
      "7\n",
      "8\n",
      "Fizz\n",
      "Buzz\n",
      "11\n",
      "Fizz\n",
      "13\n",
      "14\n",
      "FizzBuzz\n",
      "Buzz\n",
      "16\n",
      "17\n",
      "Fizz\n",
      "19\n",
      "Buzz\n",
      "Fizz\n",
      "22\n",
      "23\n",
      "Fizz\n",
      "Buzz\n",
      "26\n",
      "Fizz\n",
      "28\n",
      "29\n",
      "FizzBuzz\n",
      "Buzz\n",
      "31\n",
      "32\n",
      "Fizz\n",
      "34\n",
      "Buzz\n",
      "Fizz\n",
      "37\n",
      "38\n",
      "Fizz\n",
      "Buzz\n",
      "41\n",
      "Fizz\n",
      "43\n",
      "44\n",
      "FizzBuzz\n",
      "Buzz\n",
      "46\n",
      "47\n",
      "Fizz\n",
      "49\n",
      "Buzz\n",
      "Fizz\n",
      "52\n",
      "53\n",
      "Fizz\n",
      "Buzz\n",
      "56\n",
      "Fizz\n",
      "58\n",
      "59\n",
      "FizzBuzz\n",
      "Buzz\n",
      "61\n",
      "62\n",
      "Fizz\n",
      "64\n",
      "Buzz\n",
      "Fizz\n",
      "67\n",
      "68\n",
      "Fizz\n",
      "Buzz\n",
      "71\n",
      "Fizz\n",
      "73\n",
      "74\n",
      "FizzBuzz\n",
      "Buzz\n",
      "76\n",
      "77\n",
      "Fizz\n",
      "79\n",
      "Buzz\n",
      "Fizz\n",
      "82\n",
      "83\n",
      "Fizz\n",
      "Buzz\n",
      "86\n",
      "Fizz\n",
      "88\n",
      "89\n",
      "FizzBuzz\n",
      "Buzz\n",
      "91\n",
      "92\n",
      "Fizz\n",
      "94\n",
      "Buzz\n",
      "Fizz\n",
      "97\n",
      "98\n",
      "Fizz\n"
     ]
    }
   ],
   "source": [
    "for x in range(1,100):\n",
    "    if x % 15 ==0:\n",
    "        print('FizzBuzz')\n",
    "    if x % 5 == 0:\n",
    "        print(\"Buzz\")\n",
    "    elif x % 3 == 0:\n",
    "        print(\"Fizz\")\n",
    "    else:\n",
    "        print(x)"
   ]
  },
  {
   "cell_type": "markdown",
   "id": "7834b77e",
   "metadata": {},
   "source": [
    "Display a table of powers.\n",
    "\n",
    "Prompt the user to enter an integer.\n",
    "Display a table of squares and cubes from 1 to the value entered.\n",
    "Ask if the user wants to continue.\n",
    "Assume that the user will enter valid data.\n",
    "Only continue if the user agrees to."
   ]
  },
  {
   "cell_type": "code",
   "execution_count": 178,
   "id": "ad8e1054",
   "metadata": {},
   "outputs": [
    {
     "name": "stdout",
     "output_type": "stream",
     "text": [
      "Please provide an integer. 5\n",
      "╒═════╤═════╤═════╤═════╤═════╕\n",
      "│   1 │   2 │   3 │   4 │   5 │\n",
      "╞═════╪═════╪═════╪═════╪═════╡\n",
      "│   1 │   4 │   9 │  16 │  25 │\n",
      "├─────┼─────┼─────┼─────┼─────┤\n",
      "│   1 │   8 │  27 │  64 │ 125 │\n",
      "╘═════╧═════╧═════╧═════╧═════╛\n",
      "Would you like to provide another number? no\n"
     ]
    }
   ],
   "source": [
    "from tabulate import tabulate\n",
    "user_no = input('Please provide an integer. ')\n",
    "int_hold = int(user_no)\n",
    "str_hold = str(user_no)\n",
    "counter = 0\n",
    "sqrs = {}\n",
    "headers = ['root', 'square', 'cubes']\n",
    "user_res = 'yes'\n",
    "\n",
    "while counter < int_hold:\n",
    "    counter += 1\n",
    "    sqrs[str(counter)] = counter **2, counter**3\n",
    "    str_hold == str(int(str_hold)+ 1)\n",
    "    if counter == int_hold:\n",
    "        print(tabulate(sqrs, headers = 'keys', tablefmt = 'fancy_grid'))\n",
    "    \n",
    "        user_res = input('Would you like to provide another number? ')\n",
    "        if user_res == 'no':\n",
    "            break\n",
    "        elif user_res == 'yes':\n",
    "            counter == 0\n",
    "            user_no = input('Please provide another integer. ')\n",
    "            int_hold = int(user_no)\n",
    "            continue"
   ]
  },
  {
   "cell_type": "markdown",
   "id": "aa2fd7cf",
   "metadata": {},
   "source": [
    "Convert given number grades into letter grades.\n",
    "\n",
    "Prompt the user for a numerical grade from 0 to 100.\n",
    "Display the corresponding letter grade.\n",
    "Prompt the user to continue.\n",
    "Assume that the user will enter valid integers for the grades.\n",
    "The application should only continue if the user agrees to.\n",
    "Grade Ranges:\n",
    "\n",
    "A : 100 - 88\n",
    "B : 87 - 80\n",
    "C : 79 - 67\n",
    "D : 66 - 60\n",
    "F : 59 - 0"
   ]
  },
  {
   "cell_type": "code",
   "execution_count": 163,
   "id": "92273f47",
   "metadata": {},
   "outputs": [
    {
     "name": "stdout",
     "output_type": "stream",
     "text": [
      "Input your grade here: 80\n",
      "B\n",
      "Do you want to continue? (Y/N) y\n",
      "Input your grade here: 90\n",
      "A\n",
      "Do you want to continue? (Y/N) n\n"
     ]
    }
   ],
   "source": [
    "while True:\n",
    "    user_no = int(input('Input your grade here: '))\n",
    "    if user_no >= 88:\n",
    "        print('A')\n",
    "    elif user_no >= 80:\n",
    "        print('B')\n",
    "    elif user_no >= 67:\n",
    "        print('C')\n",
    "    elif user_no >= 60:\n",
    "        print('D')\n",
    "    else:\n",
    "        print('F')\n",
    "    user_no = input('Do you want to continue? (Y/N) ')\n",
    "    if user_no.lower().strip() == 'n':\n",
    "        break"
   ]
  },
  {
   "cell_type": "markdown",
   "id": "8c57a608",
   "metadata": {},
   "source": [
    "Create a list of dictionaries where each dictionary represents a book that you have read. Each dictionary in the list should have the keys title, author, and genre. Loop through the list and print out information about each book.\n",
    "\n",
    "Prompt the user to enter a genre, then loop through your books list and print out the titles of all the books in that genre."
   ]
  },
  {
   "cell_type": "code",
   "execution_count": 168,
   "id": "21aba93b",
   "metadata": {},
   "outputs": [
    {
     "name": "stdout",
     "output_type": "stream",
     "text": [
      "Title: lion, witch, and the wardrobe.\n",
      "Author: CS Lewis.\n",
      "Genre: fantasy.\n",
      "\n",
      "Title: Common Sense.\n",
      "Author: Thomas Payne.\n",
      "Genre: philosophy.\n",
      "\n",
      "Title: Wild Sheep Chase.\n",
      "Author: Haruki Murakami.\n",
      "Genre: fantasy.\n",
      "\n"
     ]
    }
   ],
   "source": [
    "books_read = [ {'title': 'lion, witch, and the wardrobe', 'author': 'CS Lewis', 'genre': 'fantasy'},\n",
    "               {'title': 'Common Sense', 'author': 'Thomas Payne', 'genre': 'philosophy'},\n",
    "               {'title': 'Wild Sheep Chase', 'author': 'Haruki Murakami', 'genre': 'fantasy'}]\n",
    "\n",
    "for book in books_read:\n",
    "    print('Title: {}.'.format(book['title']))\n",
    "    print('Author: {}.'.format(book['author']))\n",
    "    print('Genre: {}.'.format(book['genre']))\n",
    "    print()\n",
    "    "
   ]
  },
  {
   "cell_type": "markdown",
   "id": "f7f4b067",
   "metadata": {},
   "source": [
    "Prompt the user to enter a genre, then loop through your books list and print out the titles of all the books in that genre."
   ]
  },
  {
   "cell_type": "code",
   "execution_count": 179,
   "id": "ea4547fd",
   "metadata": {},
   "outputs": [
    {
     "name": "stdout",
     "output_type": "stream",
     "text": [
      "Which genre interests you?fantasy\n",
      "['lion, witch, and the wardrobe', 'Wild Sheep Chase']\n"
     ]
    }
   ],
   "source": [
    "your_genre = input('Which genre interests you?')\n",
    "interesting_books = []\n",
    "for book in books_read:\n",
    "    if book['genre'].strip().lower() == your_genre.strip().lower():\n",
    "        interesting_books.append(book['title'])\n",
    "print(interesting_books)"
   ]
  },
  {
   "cell_type": "code",
   "execution_count": null,
   "id": "092cda0c",
   "metadata": {},
   "outputs": [],
   "source": []
  }
 ],
 "metadata": {
  "kernelspec": {
   "display_name": "Python 3 (ipykernel)",
   "language": "python",
   "name": "python3"
  },
  "language_info": {
   "codemirror_mode": {
    "name": "ipython",
    "version": 3
   },
   "file_extension": ".py",
   "mimetype": "text/x-python",
   "name": "python",
   "nbconvert_exporter": "python",
   "pygments_lexer": "ipython3",
   "version": "3.9.13"
  }
 },
 "nbformat": 4,
 "nbformat_minor": 5
}
