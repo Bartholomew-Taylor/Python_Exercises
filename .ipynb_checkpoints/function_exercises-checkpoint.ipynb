{
 "cells": [
  {
   "cell_type": "markdown",
   "id": "8de7c56b",
   "metadata": {},
   "source": [
    "Define a function named is_two. It should accept one input and return True if the passed input is either the number or the string 2, False otherwise.\n"
   ]
  },
  {
   "cell_type": "code",
   "execution_count": 3,
   "id": "d8af196e",
   "metadata": {},
   "outputs": [
    {
     "name": "stdout",
     "output_type": "stream",
     "text": [
      "Please enter the number 2. 3\n",
      "You have failed to follow instructions. 😭\n",
      "False\n"
     ]
    }
   ],
   "source": [
    "def is_two(x):\n",
    "    if x == 2:\n",
    "        return True\n",
    "    elif x == '2':\n",
    "        return True\n",
    "    else:\n",
    "        print('You have failed to follow instructions. 😭')\n",
    "        return False\n",
    "    \n",
    "user_no = input('Please enter the number 2. ')\n",
    "print(is_two(user_no))"
   ]
  },
  {
   "cell_type": "markdown",
   "id": "9ae1e2ff",
   "metadata": {},
   "source": [
    "Define a function named is_vowel. It should return True if the passed string is a vowel, False otherwise.\n"
   ]
  },
  {
   "cell_type": "code",
   "execution_count": 5,
   "id": "5959ed14",
   "metadata": {},
   "outputs": [
    {
     "name": "stdout",
     "output_type": "stream",
     "text": [
      "Please enter a vowel. a\n",
      "Thank you for your cooperation. 🔥\n",
      "True\n"
     ]
    }
   ],
   "source": [
    "def is_vowel(x):\n",
    "    if x.lower() in ['a', 'e','i','o','u','y']:\n",
    "        print(\"Thank you for your cooperation. 🔥\")\n",
    "        return True\n",
    "    else: \n",
    "        print('You have failed to follow instructions. 😭')\n",
    "        return False\n",
    "    \n",
    "user_in = input('Please enter a vowel. ')\n",
    "print(is_vowel(user_in))"
   ]
  },
  {
   "cell_type": "markdown",
   "id": "e5ebe84d",
   "metadata": {},
   "source": [
    "Define a function named is_consonant. It should return True if the passed string is a consonant, False otherwise. Use your is_vowel function to accomplish this.\n"
   ]
  },
  {
   "cell_type": "code",
   "execution_count": 6,
   "id": "a4a1b012",
   "metadata": {},
   "outputs": [
    {
     "name": "stdout",
     "output_type": "stream",
     "text": [
      "Please enter a consanant. t\n",
      "Thank you for your cooperation. 🔥\n",
      "True\n"
     ]
    }
   ],
   "source": [
    "def is_vowel(x):\n",
    "    if x.lower() in ['a', 'e','i','o','u','y']:\n",
    "        print('You have failed to follow instructions. 😭')\n",
    "        return False\n",
    "    else: \n",
    "        print(\"Thank you for your cooperation. 🔥\")\n",
    "        return True\n",
    "user_in = input('Please enter a consanant. ')\n",
    "print(is_vowel(user_in))"
   ]
  },
  {
   "cell_type": "markdown",
   "id": "ba557732",
   "metadata": {},
   "source": [
    "Define a function that accepts a string that is a word. The function should capitalize the first letter of the word if the word starts with a consonant.\n"
   ]
  },
  {
   "cell_type": "code",
   "execution_count": 22,
   "id": "87060fd0",
   "metadata": {},
   "outputs": [
    {
     "name": "stdout",
     "output_type": "stream",
     "text": [
      "Please enter a word. 9\n",
      "9\n"
     ]
    }
   ],
   "source": [
    "\n",
    "def cap_this(x):\n",
    "    if x[0] not in ['a', 'e','i','o','u']:\n",
    "        user_o = x.capitalize()\n",
    "        return user_o\n",
    "    else:\n",
    "        return x\n",
    "        \n",
    "user_in = input('Please enter a word. ')\n",
    "print(cap_this(user_in))"
   ]
  },
  {
   "cell_type": "markdown",
   "id": "34a8e978",
   "metadata": {},
   "source": [
    "Define a function named calculate_tip. It should accept a tip percentage (a number between 0 and 1) and the bill total, and return the amount to tip.\n"
   ]
  },
  {
   "cell_type": "code",
   "execution_count": null,
   "id": "4aa53940",
   "metadata": {},
   "outputs": [],
   "source": []
  },
  {
   "cell_type": "markdown",
   "id": "0e137757",
   "metadata": {},
   "source": [
    "Define a function named apply_discount. It should accept a original price, and a discount percentage, and return the price after the discount is applied.\n"
   ]
  },
  {
   "cell_type": "code",
   "execution_count": null,
   "id": "d2032af2",
   "metadata": {},
   "outputs": [],
   "source": []
  },
  {
   "cell_type": "markdown",
   "id": "2e74568e",
   "metadata": {},
   "source": [
    "Define a function named handle_commas. It should accept a string that is a number that contains commas in it as input, and return a number as output.\n"
   ]
  },
  {
   "cell_type": "code",
   "execution_count": null,
   "id": "16d97bfc",
   "metadata": {},
   "outputs": [],
   "source": []
  },
  {
   "cell_type": "markdown",
   "id": "f78daa28",
   "metadata": {},
   "source": [
    "Define a function named get_letter_grade. It should accept a number and return the letter grade associated with that number (A-F).\n"
   ]
  },
  {
   "cell_type": "code",
   "execution_count": null,
   "id": "6a6f9af2",
   "metadata": {},
   "outputs": [],
   "source": []
  },
  {
   "cell_type": "markdown",
   "id": "b7870f92",
   "metadata": {},
   "source": [
    "Define a function named remove_vowels that accepts a string and returns a string with all the vowels removed.\n"
   ]
  },
  {
   "cell_type": "code",
   "execution_count": null,
   "id": "6c61108e",
   "metadata": {},
   "outputs": [],
   "source": []
  },
  {
   "cell_type": "markdown",
   "id": "4309f69c",
   "metadata": {},
   "source": [
    "Define a function named normalize_name. It should accept a string and return a valid python identifier, that is:\n",
    "anything that is not a valid python identifier should be removed\n",
    "leading and trailing whitespace should be removed\n",
    "everything should be lowercase\n",
    "spaces should be replaced with underscores\n",
    "for example:\n",
    "\n",
    "    Name will become name\n",
    "    \n",
    "    First Name will become first_name\n",
    "    \n",
    "    % Completed will become completed\n"
   ]
  },
  {
   "cell_type": "code",
   "execution_count": null,
   "id": "37eb1e84",
   "metadata": {},
   "outputs": [],
   "source": []
  },
  {
   "cell_type": "markdown",
   "id": "a8ad26e2",
   "metadata": {},
   "source": [
    "Write a function named cumulative_sum that accepts a list of numbers and returns a list that is the cumulative sum of the numbers in the list.\n",
    "\n",
    "    cumulative_sum([1, 1, 1]) returns [1, 2, 3]\n",
    "    \n",
    "    cumulative_sum([1, 2, 3, 4]) returns [1, 3, 6, 10]"
   ]
  },
  {
   "cell_type": "code",
   "execution_count": null,
   "id": "c7cbcdc1",
   "metadata": {},
   "outputs": [],
   "source": []
  }
 ],
 "metadata": {
  "kernelspec": {
   "display_name": "Python 3 (ipykernel)",
   "language": "python",
   "name": "python3"
  },
  "language_info": {
   "codemirror_mode": {
    "name": "ipython",
    "version": 3
   },
   "file_extension": ".py",
   "mimetype": "text/x-python",
   "name": "python",
   "nbconvert_exporter": "python",
   "pygments_lexer": "ipython3",
   "version": "3.9.13"
  }
 },
 "nbformat": 4,
 "nbformat_minor": 5
}
