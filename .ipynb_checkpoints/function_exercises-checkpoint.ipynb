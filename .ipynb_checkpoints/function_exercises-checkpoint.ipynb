{
 "cells": [
  {
   "cell_type": "markdown",
   "id": "8de7c56b",
   "metadata": {},
   "source": [
    "Define a function named is_two. It should accept one input and return True if the passed input is either the number or the string 2, False otherwise.\n"
   ]
  },
  {
   "cell_type": "code",
   "execution_count": 54,
   "id": "d8af196e",
   "metadata": {},
   "outputs": [
    {
     "name": "stdout",
     "output_type": "stream",
     "text": [
      "Please enter the number 2. 5\n",
      "You have failed to follow instructions. 😭\n",
      "False\n"
     ]
    }
   ],
   "source": [
    "def is_two(x):\n",
    "    if x == 2:\n",
    "        return True\n",
    "    elif x == '2':\n",
    "        return True\n",
    "    else:\n",
    "        print('You have failed to follow instructions. 😭')\n",
    "        return False\n",
    "    \n",
    "user_no = input('Please enter the number 2. ')\n",
    "print(is_two(user_no))"
   ]
  },
  {
   "cell_type": "markdown",
   "id": "9ae1e2ff",
   "metadata": {},
   "source": [
    "Define a function named is_vowel. It should return True if the passed string is a vowel, False otherwise.\n"
   ]
  },
  {
   "cell_type": "code",
   "execution_count": 58,
   "id": "5959ed14",
   "metadata": {},
   "outputs": [
    {
     "name": "stdout",
     "output_type": "stream",
     "text": [
      "Please enter a vowel. e\n",
      "Thank you for your cooperation. 🔥\n",
      "True\n"
     ]
    }
   ],
   "source": [
    "def is_vowel(x):\n",
    "    if x.lower() in 'aeiouy':\n",
    "        print(\"Thank you for your cooperation. 🔥\")\n",
    "        return True\n",
    "    else: \n",
    "        print('You have failed to follow instructions. 😭')\n",
    "        return False\n",
    "    \n",
    "user_in = input('Please enter a vowel. ')\n",
    "print(is_vowel(user_in))"
   ]
  },
  {
   "cell_type": "markdown",
   "id": "e5ebe84d",
   "metadata": {},
   "source": [
    "Define a function named is_consonant. It should return True if the passed string is a consonant, False otherwise. Use your is_vowel function to accomplish this.\n"
   ]
  },
  {
   "cell_type": "code",
   "execution_count": 60,
   "id": "a4a1b012",
   "metadata": {},
   "outputs": [
    {
     "name": "stdout",
     "output_type": "stream",
     "text": [
      "Please enter a consanant. g\n",
      "Thank you for your cooperation. 🔥\n",
      "True\n"
     ]
    }
   ],
   "source": [
    "def is_vowel(x):\n",
    "    if x.lower() in 'aeiouy':\n",
    "        print('You have failed to follow instructions. 😭')\n",
    "        return False\n",
    "    else: \n",
    "        print(\"Thank you for your cooperation. 🔥\")\n",
    "        return True\n",
    "user_in = input('Please enter a consanant. ')\n",
    "print(is_vowel(user_in))"
   ]
  },
  {
   "cell_type": "markdown",
   "id": "ba557732",
   "metadata": {},
   "source": [
    "Define a function that accepts a string that is a word. The function should capitalize the first letter of the word if the word starts with a consonant.\n"
   ]
  },
  {
   "cell_type": "code",
   "execution_count": 61,
   "id": "87060fd0",
   "metadata": {},
   "outputs": [
    {
     "name": "stdout",
     "output_type": "stream",
     "text": [
      "Please enter a word. fire\n",
      "Fire\n"
     ]
    }
   ],
   "source": [
    "\n",
    "def cap_this(x):\n",
    "    if x[0] not in 'aeiou':\n",
    "        user_o = x.capitalize()\n",
    "        return user_o\n",
    "    else:\n",
    "        return x\n",
    "        \n",
    "user_in = input('Please enter a word. ')\n",
    "print(cap_this(user_in))"
   ]
  },
  {
   "cell_type": "markdown",
   "id": "34a8e978",
   "metadata": {},
   "source": [
    "Define a function named calculate_tip. It should accept a tip percentage (a number between 0 and 1) and the bill total, and return the amount to tip.\n"
   ]
  },
  {
   "cell_type": "code",
   "execution_count": 17,
   "id": "4aa53940",
   "metadata": {},
   "outputs": [
    {
     "name": "stdout",
     "output_type": "stream",
     "text": [
      "Please enter the amount of your total bill. 32.10\n",
      "Please enter the percent you would like to tip as a number between 0 and 100. 25\n",
      "25.0\n",
      "You have clearly been raised to respect those who work in the restaurant industry.\n"
     ]
    },
    {
     "data": {
      "text/plain": [
       "8.03"
      ]
     },
     "execution_count": 17,
     "metadata": {},
     "output_type": "execute_result"
    }
   ],
   "source": [
    "user_bill = float(input('Please enter the amount of your total bill. '))\n",
    "user_tip = float(input('Please enter the percent you would like to tip as a number between 0 and 100. '))\n",
    "\n",
    "def tip_cal(tip_p, bill):\n",
    "    if tip_p < 0.20:\n",
    "        print('Your disrespect for working folk is palapable.')\n",
    "        return round((tip_p/100) * bill, 2)\n",
    "    elif tip_p >= 0.20:\n",
    "        print('You have clearly been raised to respect those who work in the restaurant industry.')\n",
    "        return round((tip_p/100)*bill, 2)\n",
    "       \n",
    "tip_cal(user_tip, user_bill) \n",
    "    "
   ]
  },
  {
   "cell_type": "markdown",
   "id": "0e137757",
   "metadata": {},
   "source": [
    "Define a function named apply_discount. It should accept a original price, and a discount percentage, and return the price after the discount is applied.\n"
   ]
  },
  {
   "cell_type": "code",
   "execution_count": 78,
   "id": "d2032af2",
   "metadata": {},
   "outputs": [
    {
     "name": "stdout",
     "output_type": "stream",
     "text": [
      "Please enter the original price of the item. 100\n",
      "Please enter the amount of the discount as a percentage between 0 and 100. 70\n"
     ]
    },
    {
     "data": {
      "text/plain": [
       "'$30.0'"
      ]
     },
     "execution_count": 78,
     "metadata": {},
     "output_type": "execute_result"
    }
   ],
   "source": [
    "user_item = float(input('Please enter the original price of the item. '))\n",
    "user_discount = float(input('Please enter the amount of the discount as a percentage between 0 and 100. '))\n",
    "\n",
    "\n",
    "def discount_cal(item_price, discount_value):\n",
    "    discount = (discount_value / 100) * item_price\n",
    "    final_price = item_price - discount\n",
    "    return (f'${round(final_price,2)}')\n",
    "    \n",
    "       \n",
    "discount_cal(user_item, user_discount) "
   ]
  },
  {
   "cell_type": "markdown",
   "id": "2e74568e",
   "metadata": {},
   "source": [
    "Define a function named handle_commas. It should accept a string that is a number that contains commas in it as input, and return a number as output.\n"
   ]
  },
  {
   "cell_type": "code",
   "execution_count": 2,
   "id": "16d97bfc",
   "metadata": {},
   "outputs": [
    {
     "name": "stdout",
     "output_type": "stream",
     "text": [
      "Please provide a number greater than one thousand that includes a comma or commas.: 1,333\n"
     ]
    },
    {
     "data": {
      "text/plain": [
       "1333"
      ]
     },
     "execution_count": 2,
     "metadata": {},
     "output_type": "execute_result"
    }
   ],
   "source": [
    "user_no = input('Please provide a number greater than one thousand that includes a comma or commas.: ')\n",
    "\n",
    "def handle_commas(input_no):\n",
    "    no_comma_no = int(user_no.replace(',',''))\n",
    "    return no_comma_no\n",
    "\n",
    "handle_commas(user_no)"
   ]
  },
  {
   "cell_type": "markdown",
   "id": "f78daa28",
   "metadata": {},
   "source": [
    "Define a function named get_letter_grade. It should accept a number and return the letter grade associated with that number (A-F).\n"
   ]
  },
  {
   "cell_type": "code",
   "execution_count": 5,
   "id": "6a6f9af2",
   "metadata": {},
   "outputs": [
    {
     "name": "stdout",
     "output_type": "stream",
     "text": [
      "Please provide your number score to be converted to letter grade(0-100 only): 68\n"
     ]
    },
    {
     "data": {
      "text/plain": [
       "'D'"
      ]
     },
     "execution_count": 5,
     "metadata": {},
     "output_type": "execute_result"
    }
   ],
   "source": [
    "user_grade = int(input('Please provide your number score to be converted to letter grade(0-100 only): '))\n",
    "\n",
    "def get_letter_grade(grade_in):\n",
    "    if user_grade > 90:\n",
    "        return 'A'\n",
    "    elif user_grade > 80:\n",
    "        return 'B'\n",
    "    elif user_grade > 70:\n",
    "        return 'C'\n",
    "    elif user_grade > 60:\n",
    "        return 'D'\n",
    "    else:\n",
    "        return 'F'\n",
    "    \n",
    "get_letter_grade(user_grade)"
   ]
  },
  {
   "cell_type": "markdown",
   "id": "b7870f92",
   "metadata": {},
   "source": [
    "Define a function named remove_vowels that accepts a string and returns a string with all the vowels removed.\n"
   ]
  },
  {
   "cell_type": "code",
   "execution_count": 80,
   "id": "6c61108e",
   "metadata": {},
   "outputs": [
    {
     "name": "stdout",
     "output_type": "stream",
     "text": [
      "Please provide a word.: uirecouse\n"
     ]
    },
    {
     "data": {
      "text/plain": [
       "'rcs'"
      ]
     },
     "execution_count": 80,
     "metadata": {},
     "output_type": "execute_result"
    }
   ],
   "source": [
    "w_vowels = input('Please provide a word.: ')\n",
    "\n",
    "def remove_vowels(vowelfull):\n",
    "    for letter in vowelfull:\n",
    "        if letter in 'aeiouAEIOU':\n",
    "            vowelfull = vowelfull.replace(letter, '')\n",
    "    return vowelfull\n",
    "    \n",
    "\n",
    "remove_vowels(w_vowels)\n",
    "\n"
   ]
  },
  {
   "cell_type": "markdown",
   "id": "4309f69c",
   "metadata": {},
   "source": [
    "Define a function named normalize_name. It should accept a string and return a valid python identifier, that is:\n",
    "anything that is not a valid python identifier should be removed\n",
    "leading and trailing whitespace should be removed\n",
    "everything should be lowercase\n",
    "spaces should be replaced with underscores\n",
    "for example:\n",
    "\n",
    "    Name will become name\n",
    "    \n",
    "    First Name will become first_name\n",
    "    \n",
    "    % Completed will become completed\n"
   ]
  },
  {
   "cell_type": "code",
   "execution_count": 82,
   "id": "37eb1e84",
   "metadata": {},
   "outputs": [
    {
     "name": "stdout",
     "output_type": "stream",
     "text": [
      "Please provide your name.: &&^%$%% Bart Taylor\n"
     ]
    },
    {
     "data": {
      "text/plain": [
       "'bart_taylor'"
      ]
     },
     "execution_count": 82,
     "metadata": {},
     "output_type": "execute_result"
    }
   ],
   "source": [
    "user_nom = input('Please provide your name.: ')\n",
    "\n",
    "def normalize_name(input_nom):\n",
    "    not_ok = ('!','@','#','$','%','^','&','*','(',')',',')\n",
    "    for char in input_nom:\n",
    "        if char in not_ok:\n",
    "            input_nom = input_nom.replace(char,'')\n",
    "    input_nom = input_nom.strip()\n",
    "    input_nom = input_nom.replace(' ','_')\n",
    "    return input_nom.lower()\n",
    "              \n",
    "normalize_name(user_nom)\n",
    "    "
   ]
  },
  {
   "cell_type": "markdown",
   "id": "a8ad26e2",
   "metadata": {},
   "source": [
    "Write a function named cumulative_sum that accepts a list of numbers and returns a list that is the cumulative sum of the numbers in the list.\n",
    "\n",
    "    cumulative_sum([1, 1, 1]) returns [1, 2, 3]\n",
    "    \n",
    "    cumulative_sum([1, 2, 3, 4]) returns [1, 3, 6, 10]"
   ]
  },
  {
   "cell_type": "code",
   "execution_count": 81,
   "id": "c7cbcdc1",
   "metadata": {},
   "outputs": [
    {
     "name": "stdout",
     "output_type": "stream",
     "text": [
      "please provide a string of numbers.: 9987654398765\n"
     ]
    },
    {
     "data": {
      "text/plain": [
       "[9, 18, 26, 33, 39, 44, 48, 51, 60, 68, 75, 81, 86]"
      ]
     },
     "execution_count": 81,
     "metadata": {},
     "output_type": "execute_result"
    }
   ],
   "source": [
    "user_num = input('please provide a string of numbers.: ')\n",
    "\n",
    "def cumlative_sum(user_nums):\n",
    "    out_list = []\n",
    "    sec_list = []\n",
    "    for num in user_nums:\n",
    "        sec_list.append(int(num))\n",
    "        out_list.append(sum(sec_list))\n",
    "    return out_list\n",
    "    \n",
    "        \n",
    "\n",
    "cumlative_sum(user_num)"
   ]
  },
  {
   "cell_type": "code",
   "execution_count": null,
   "id": "b04e17eb",
   "metadata": {},
   "outputs": [],
   "source": []
  }
 ],
 "metadata": {
  "kernelspec": {
   "display_name": "Python 3 (ipykernel)",
   "language": "python",
   "name": "python3"
  },
  "language_info": {
   "codemirror_mode": {
    "name": "ipython",
    "version": 3
   },
   "file_extension": ".py",
   "mimetype": "text/x-python",
   "name": "python",
   "nbconvert_exporter": "python",
   "pygments_lexer": "ipython3",
   "version": "3.9.13"
  }
 },
 "nbformat": 4,
 "nbformat_minor": 5
}
