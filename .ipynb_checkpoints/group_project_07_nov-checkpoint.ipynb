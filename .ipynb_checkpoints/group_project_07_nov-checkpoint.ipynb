{
 "cells": [
  {
   "cell_type": "code",
   "execution_count": null,
   "id": "92ac35f1",
   "metadata": {},
   "outputs": [],
   "source": [
    "def volume(unit, quantity):\n",
    "    if unit == \"fl oz\": \n",
    "        floz_to_ml = quantity * 29.57\n",
    "        return floz_to_ml\n",
    "    if unit == \"ml\":\n",
    "        ml_to_floz = quantity/29.57\n",
    "        return ml_to_floz"
   ]
  }
 ],
 "metadata": {
  "kernelspec": {
   "display_name": "Python 3 (ipykernel)",
   "language": "python",
   "name": "python3"
  },
  "language_info": {
   "codemirror_mode": {
    "name": "ipython",
    "version": 3
   },
   "file_extension": ".py",
   "mimetype": "text/x-python",
   "name": "python",
   "nbconvert_exporter": "python",
   "pygments_lexer": "ipython3",
   "version": "3.9.13"
  }
 },
 "nbformat": 4,
 "nbformat_minor": 5
}
