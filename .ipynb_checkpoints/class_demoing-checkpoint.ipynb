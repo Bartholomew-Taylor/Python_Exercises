{
 "cells": [
  {
   "cell_type": "code",
   "execution_count": 18,
   "id": "a1cbaa8a",
   "metadata": {},
   "outputs": [
    {
     "data": {
      "text/plain": [
       "'other, salutations, Codeup!'"
      ]
     },
     "execution_count": 18,
     "metadata": {},
     "output_type": "execute_result"
    }
   ],
   "source": [
    "def sayhello(name='World', greetings='Hello', other = 'other'):\n",
    "    return '{}, {}, {}!'.format(other, greetings, name)\n",
    "\n",
    "args = ['Codeup', 'Salutations', 'other']\n",
    "\n",
    "\n",
    "\n",
    "kwargs = {'greetings':'salutations', 'name':'Codeup', 'other':'other'}\n",
    "\n",
    "sayhello(**kwargs)"
   ]
  },
  {
   "cell_type": "code",
   "execution_count": 19,
   "id": "278629dd",
   "metadata": {},
   "outputs": [
    {
     "name": "stdout",
     "output_type": "stream",
     "text": [
      "[4, 3, 2, 1, 87]\n",
      "this thing\n"
     ]
    }
   ],
   "source": [
    "def list_feed(mylist):\n",
    "    return mylist, 'this thing'\n",
    "\n",
    "mylist = [4, 3, 2, 1]\n",
    "\n",
    "output1, output2 = list_feed(mylist)\n",
    "\n",
    "output1.append(87)\n",
    "print(output1)\n",
    "print(output2)"
   ]
  },
  {
   "cell_type": "code",
   "execution_count": 20,
   "id": "492d5a9f",
   "metadata": {},
   "outputs": [
    {
     "data": {
      "text/plain": [
       "47.24409448818898"
      ]
     },
     "execution_count": 20,
     "metadata": {},
     "output_type": "execute_result"
    }
   ],
   "source": [
    "def converter(meas, metric=True):\n",
    "    if metric:\n",
    "        num_inches = meas/2.54\n",
    "        return num_inches\n",
    "    else:\n",
    "        num_cms = meas*2.54\n",
    "        return num_cms\n",
    "    \n",
    "converter(120, metric=True)"
   ]
  },
  {
   "cell_type": "code",
   "execution_count": 26,
   "id": "b0e46dcf",
   "metadata": {},
   "outputs": [
    {
     "data": {
      "text/plain": [
       "47.24409448818898"
      ]
     },
     "execution_count": 26,
     "metadata": {},
     "output_type": "execute_result"
    }
   ],
   "source": [
    "converter(120,1)"
   ]
  },
  {
   "cell_type": "code",
   "execution_count": 24,
   "id": "1c55e4e8",
   "metadata": {},
   "outputs": [
    {
     "data": {
      "text/plain": [
       "119.38"
      ]
     },
     "execution_count": 24,
     "metadata": {},
     "output_type": "execute_result"
    }
   ],
   "source": [
    "converter(47,False)"
   ]
  },
  {
   "cell_type": "code",
   "execution_count": null,
   "id": "e2a91ef4",
   "metadata": {},
   "outputs": [],
   "source": []
  }
 ],
 "metadata": {
  "kernelspec": {
   "display_name": "Python 3 (ipykernel)",
   "language": "python",
   "name": "python3"
  },
  "language_info": {
   "codemirror_mode": {
    "name": "ipython",
    "version": 3
   },
   "file_extension": ".py",
   "mimetype": "text/x-python",
   "name": "python",
   "nbconvert_exporter": "python",
   "pygments_lexer": "ipython3",
   "version": "3.9.13"
  }
 },
 "nbformat": 4,
 "nbformat_minor": 5
}
